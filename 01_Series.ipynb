{
 "cells": [
  {
   "cell_type": "code",
   "execution_count": 2,
   "id": "1e978679-b3eb-48c6-95df-cb15b4909bcb",
   "metadata": {},
   "outputs": [],
   "source": [
    "import pandas as pd\n",
    "import numpy as np"
   ]
  },
  {
   "cell_type": "code",
   "execution_count": 3,
   "id": "e05477bf-5bc1-4d42-810a-a3d8782c5cce",
   "metadata": {},
   "outputs": [
    {
     "data": {
      "text/plain": [
       "0     5\n",
       "1     9\n",
       "2    12\n",
       "3    27\n",
       "dtype: int64"
      ]
     },
     "execution_count": 3,
     "metadata": {},
     "output_type": "execute_result"
    }
   ],
   "source": [
    "# Pandas Series - Like a Table Column - 1 Dimensional Array holding any type of data\n",
    "my_series = [5, 9, 12, 27]\n",
    "my_var = pd.Series(my_series)\n",
    "my_var"
   ]
  },
  {
   "cell_type": "code",
   "execution_count": 4,
   "id": "ed75cfa8",
   "metadata": {},
   "outputs": [
    {
     "data": {
      "text/plain": [
       "np.int64(12)"
      ]
     },
     "execution_count": 4,
     "metadata": {},
     "output_type": "execute_result"
    }
   ],
   "source": [
    "# Print specific value\n",
    "my_var[2]"
   ]
  },
  {
   "cell_type": "code",
   "execution_count": 5,
   "id": "0108087c",
   "metadata": {},
   "outputs": [
    {
     "data": {
      "text/plain": [
       "A     5\n",
       "B     9\n",
       "C    12\n",
       "D    27\n",
       "dtype: int64"
      ]
     },
     "execution_count": 5,
     "metadata": {},
     "output_type": "execute_result"
    }
   ],
   "source": [
    "# Labels using the index argument\n",
    "my_index = [\"A\", \"B\", \"C\", \"D\"]\n",
    "my_var_2 = pd.Series(my_series, my_index)\n",
    "my_var_2"
   ]
  },
  {
   "cell_type": "code",
   "execution_count": 6,
   "id": "fe0fcb93",
   "metadata": {},
   "outputs": [
    {
     "data": {
      "text/plain": [
       "np.int64(9)"
      ]
     },
     "execution_count": 6,
     "metadata": {},
     "output_type": "execute_result"
    }
   ],
   "source": [
    "my_var_2[\"B\"]"
   ]
  },
  {
   "cell_type": "code",
   "execution_count": 7,
   "id": "134a886c",
   "metadata": {},
   "outputs": [
    {
     "data": {
      "text/plain": [
       "Tesla       12\n",
       "Mercedes    42\n",
       "BMX          3\n",
       "dtype: int64"
      ]
     },
     "execution_count": 7,
     "metadata": {},
     "output_type": "execute_result"
    }
   ],
   "source": [
    "# Key Value Dictionary\n",
    "cars = {\"Tesla\": 12, \"Mercedes\": 42, \"BMX\": 3}\n",
    "my_var_3 = pd.Series(cars)\n",
    "my_var_3"
   ]
  },
  {
   "cell_type": "code",
   "execution_count": 8,
   "id": "2b3f09d8",
   "metadata": {},
   "outputs": [
    {
     "data": {
      "text/plain": [
       "np.int64(12)"
      ]
     },
     "execution_count": 8,
     "metadata": {},
     "output_type": "execute_result"
    }
   ],
   "source": [
    "my_var_3[\"Tesla\"]"
   ]
  },
  {
   "cell_type": "code",
   "execution_count": null,
   "id": "b2d8aa3e",
   "metadata": {},
   "outputs": [],
   "source": []
  }
 ],
 "metadata": {
  "kernelspec": {
   "display_name": "Python 3 (ipykernel)",
   "language": "python",
   "name": "python3"
  },
  "language_info": {
   "codemirror_mode": {
    "name": "ipython",
    "version": 3
   },
   "file_extension": ".py",
   "mimetype": "text/x-python",
   "name": "python",
   "nbconvert_exporter": "python",
   "pygments_lexer": "ipython3",
   "version": "3.10.0"
  }
 },
 "nbformat": 4,
 "nbformat_minor": 5
}
